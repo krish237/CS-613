{
  "nbformat": 4,
  "nbformat_minor": 0,
  "metadata": {
    "colab": {
      "name": "Assignment_3",
      "provenance": [],
      "collapsed_sections": [],
      "machine_shape": "hm"
    },
    "kernelspec": {
      "name": "python3",
      "display_name": "Python 3"
    }
  },
  "cells": [
    {
      "cell_type": "code",
      "metadata": {
        "id": "3sMe9O7Aj0Xj",
        "colab_type": "code",
        "outputId": "8fcbf058-1e0f-4574-92bb-63645026cfd0",
        "colab": {
          "base_uri": "https://localhost:8080/",
          "height": 87
        }
      },
      "source": [
        "!unzip 'nlp assignment 3.zip'"
      ],
      "execution_count": 0,
      "outputs": [
        {
          "output_type": "stream",
          "text": [
            "Archive:  nlp assignment 3.zip\n",
            "   creating: nlp assignment 3/\n",
            "  inflating: nlp assignment 3/test.txt  \n",
            "  inflating: nlp assignment 3/train.txt  \n"
          ],
          "name": "stdout"
        }
      ]
    },
    {
      "cell_type": "code",
      "metadata": {
        "id": "5kDT3dI_pqPU",
        "colab_type": "code",
        "outputId": "390b0819-a23d-4842-f254-4b0b378c00a5",
        "colab": {
          "base_uri": "https://localhost:8080/",
          "height": 34
        }
      },
      "source": [
        "cd 'nlp assignment 3'"
      ],
      "execution_count": 0,
      "outputs": [
        {
          "output_type": "stream",
          "text": [
            "/content/nlp assignment 3\n"
          ],
          "name": "stdout"
        }
      ]
    },
    {
      "cell_type": "code",
      "metadata": {
        "id": "bv5iGEvzkR9G",
        "colab_type": "code",
        "colab": {}
      },
      "source": [
        "f = open(\"train.txt\",\"r\")\n",
        "uncleaned = f.readlines()\n",
        "train_data=[]\n",
        "\n",
        "i=0\n",
        "while(i<len(uncleaned)):\n",
        "  x=uncleaned[i]\n",
        "  l = x.split()\n",
        "  if(l!=[]):\n",
        "    if(l[0]=='meta'):\n",
        "      d=dict()\n",
        "      d['id']=int(l[1])\n",
        "      d['sentiment']=str(l[2])\n",
        "      d['tokens']=[]\n",
        "      d['lang_id']=[]\n",
        "    elif(len(l)==2):\n",
        "      d['tokens'].append(l[0].lower())\n",
        "      d['lang_id'].append(l[1])\n",
        "  else:\n",
        "    train_data.append(d)\n",
        "  i=i+1\n",
        "\n",
        "train_labels = []\n",
        "for i in range(len(train_data)):\n",
        "  s = train_data[i]['sentiment']\n",
        "  train_labels.append(s)"
      ],
      "execution_count": 0,
      "outputs": []
    },
    {
      "cell_type": "code",
      "metadata": {
        "id": "Vdh-e8pt5LiF",
        "colab_type": "code",
        "colab": {}
      },
      "source": [
        "f = open(\"test.txt\",\"r\")\n",
        "uncleaned = f.readlines()\n",
        "test_data=[]\n",
        "\n",
        "i=0\n",
        "while(i<len(uncleaned)):\n",
        "  x=uncleaned[i]\n",
        "  l = x.split()\n",
        "  if(l!=[]):\n",
        "    if(l[0]=='meta'):\n",
        "      d=dict()\n",
        "      d['id']=int(l[1])\n",
        "      d['sentiment']=str(l[2])\n",
        "      d['tokens']=[]\n",
        "      d['lang_id']=[]\n",
        "    elif(len(l)==2):\n",
        "      d['tokens'].append(l[0].lower())\n",
        "      d['lang_id'].append(l[1])\n",
        "  else:\n",
        "    test_data.append(d)\n",
        "  i=i+1\n",
        "\n",
        "test_labels = []\n",
        "for i in range(len(test_data)):\n",
        "  s = test_data[i]['sentiment']\n",
        "  test_labels.append(s)"
      ],
      "execution_count": 0,
      "outputs": []
    },
    {
      "cell_type": "code",
      "metadata": {
        "id": "4WDbhGEmtx56",
        "colab_type": "code",
        "outputId": "7a088c4d-14bb-4c4d-c83e-ee0c0c2de95d",
        "colab": {
          "base_uri": "https://localhost:8080/",
          "height": 52
        }
      },
      "source": [
        "import nltk\n",
        "nltk.download('punkt')\n",
        "from nltk.util import ngrams"
      ],
      "execution_count": 0,
      "outputs": [
        {
          "output_type": "stream",
          "text": [
            "[nltk_data] Downloading package punkt to /root/nltk_data...\n",
            "[nltk_data]   Unzipping tokenizers/punkt.zip.\n"
          ],
          "name": "stdout"
        }
      ]
    },
    {
      "cell_type": "code",
      "metadata": {
        "id": "9OHRKFYc1VYx",
        "colab_type": "code",
        "colab": {}
      },
      "source": [
        "max_chars = 25\n",
        "vector_size = 128"
      ],
      "execution_count": 0,
      "outputs": []
    },
    {
      "cell_type": "code",
      "metadata": {
        "id": "d2a7bRI2hntd",
        "colab_type": "code",
        "colab": {}
      },
      "source": [
        "train_data_1 = []\n",
        "for i in range(len(train_data)):\n",
        "  t = train_data[i]['tokens']\n",
        "  l = train_data[i]['lang_id']\n",
        "  t_filter = [t[x] for x in range(len(t)) if l[x]!='O']\n",
        "  t_trigram = [' '.join(t_filter[i:i+3]) for i in range(len(t_filter)-2)]\n",
        "  #t_trigram += [' '.join(t_filter[i:i+4]) for i in range(len(t_filter)-3)]\n",
        "  #t_trigram += [' '.join(t_filter[i:i+5]) for i in range(len(t_filter)-4)]\n",
        "  #t_trigram += [' '.join(t_filter[i:i+6]) for i in range(len(t_filter)-5)]\n",
        "  train_data_1.append(t_trigram)"
      ],
      "execution_count": 0,
      "outputs": []
    },
    {
      "cell_type": "code",
      "metadata": {
        "id": "_zjHMpg6Zpck",
        "colab_type": "code",
        "colab": {}
      },
      "source": [
        "a,b,c,d,e = 0,0,0,0,0\n",
        "for i in range(len(train_data_1)):\n",
        "  if(len(train_data_1[i])>40):\n",
        "    a=a+1\n",
        "  if(len(train_data_1[i])>50):\n",
        "    b=b+1\n",
        "  if(len(train_data_1[i])>75):\n",
        "    c=c+1\n",
        "  if(len(train_data_1[i])>90):\n",
        "    d=d+1\n",
        "  if(len(train_data_1[i])>100):\n",
        "    e=e+1"
      ],
      "execution_count": 0,
      "outputs": []
    },
    {
      "cell_type": "code",
      "metadata": {
        "id": "svPHRLppaJYd",
        "colab_type": "code",
        "outputId": "fdfe3d4a-8028-4c28-8157-a5183acbb6b8",
        "colab": {
          "base_uri": "https://localhost:8080/",
          "height": 34
        }
      },
      "source": [
        "print(a,b,c,d,e)"
      ],
      "execution_count": 0,
      "outputs": [
        {
          "output_type": "stream",
          "text": [
            "0 0 0 0 0\n"
          ],
          "name": "stdout"
        }
      ]
    },
    {
      "cell_type": "code",
      "metadata": {
        "id": "cBflJl0G-IWA",
        "colab_type": "code",
        "colab": {}
      },
      "source": [
        "test_data_1 = []\n",
        "for i in range(len(test_data)):\n",
        "  t = test_data[i]['tokens']\n",
        "  l = test_data[i]['lang_id']\n",
        "  t_filter = [t[x] for x in range(len(t)) if l[x]!='O']\n",
        "  t_trigram = [' '.join(t_filter[i:i+3]) for i in range(len(t_filter)-2)]\n",
        "  #t_trigram += [' '.join(t_filter[i:i+4]) for i in range(len(t_filter)-3)]\n",
        "  #t_trigram += [' '.join(t_filter[i:i+5]) for i in range(len(t_filter)-4)]\n",
        "  #t_trigram += [' '.join(t_filter[i:i+6]) for i in range(len(t_filter)-5)]\n",
        "  test_data_1.append(t_trigram)"
      ],
      "execution_count": 0,
      "outputs": []
    },
    {
      "cell_type": "code",
      "metadata": {
        "id": "AZWGGqQ-XYmo",
        "colab_type": "code",
        "colab": {}
      },
      "source": [
        "train_labels_1 = []\n",
        "for i in range(len(train_labels)):\n",
        "  s = train_labels[i]\n",
        "  if(s=='negative'):\n",
        "    train_labels_1.append([1, 0, 0])\n",
        "  elif(s=='positive'):\n",
        "    train_labels_1.append([0, 0, 1])\n",
        "  else:\n",
        "    train_labels_1.append([0, 1, 0])"
      ],
      "execution_count": 0,
      "outputs": []
    },
    {
      "cell_type": "code",
      "metadata": {
        "id": "h6GjFZOIXJT7",
        "colab_type": "code",
        "colab": {}
      },
      "source": [
        "test_labels_1 = []\n",
        "for i in range(len(test_labels)):\n",
        "  s = test_labels[i]\n",
        "  if(s=='negative'):\n",
        "    test_labels_1.append([1, 0, 0])\n",
        "  elif(s=='positive'):\n",
        "    test_labels_1.append([0, 0, 1])\n",
        "  else:\n",
        "    test_labels_1.append([0, 1, 0])"
      ],
      "execution_count": 0,
      "outputs": []
    },
    {
      "cell_type": "code",
      "metadata": {
        "id": "M9_WyjS7t-4Y",
        "colab_type": "code",
        "colab": {}
      },
      "source": [
        "import gensim\n",
        "import numpy as np"
      ],
      "execution_count": 0,
      "outputs": []
    },
    {
      "cell_type": "code",
      "metadata": {
        "id": "5tpGL6gnDOkY",
        "colab_type": "code",
        "colab": {}
      },
      "source": [
        "y_train_1 = np.array(train_labels_1)\n",
        "#y_test_1 = np.array(test_labels_1)"
      ],
      "execution_count": 0,
      "outputs": []
    },
    {
      "cell_type": "code",
      "metadata": {
        "id": "cAxuQmuQgE6a",
        "colab_type": "code",
        "colab": {}
      },
      "source": [
        "word_model_1 = gensim.models.Word2Vec(train_data_1+test_data_1, size=vector_size, seed=1011, min_count=1, iter=100)"
      ],
      "execution_count": 0,
      "outputs": []
    },
    {
      "cell_type": "code",
      "metadata": {
        "id": "cvBsQZYGAMli",
        "colab_type": "code",
        "colab": {}
      },
      "source": [
        "word_vectors_1 = word_model_1.wv"
      ],
      "execution_count": 0,
      "outputs": []
    },
    {
      "cell_type": "code",
      "metadata": {
        "id": "XoN8vIpKAw2E",
        "colab_type": "code",
        "outputId": "235c565c-b72f-4eab-ef6a-40cb2557e771",
        "colab": {
          "base_uri": "https://localhost:8080/",
          "height": 52
        }
      },
      "source": [
        "vocab_size = word_model_1.wv.vectors.shape[0]\n",
        "print(vocab_size)\n",
        "embedding_size = word_model_1.wv.vectors.shape[1]\n",
        "print(embedding_size)"
      ],
      "execution_count": 0,
      "outputs": [
        {
          "output_type": "stream",
          "text": [
            "275423\n",
            "128\n"
          ],
          "name": "stdout"
        }
      ]
    },
    {
      "cell_type": "code",
      "metadata": {
        "id": "Y2Q9KyiI-3MG",
        "colab_type": "code",
        "colab": {}
      },
      "source": [
        "X_train_1 = np.zeros((len(train_data_1), max_chars, vector_size))\n",
        "X_test_1 = np.zeros((len(test_data_1), max_chars, vector_size))"
      ],
      "execution_count": 0,
      "outputs": []
    },
    {
      "cell_type": "code",
      "metadata": {
        "id": "LwZbkxRE-3P7",
        "colab_type": "code",
        "colab": {}
      },
      "source": [
        "for i in range(len(train_data_1)):\n",
        "  t = train_data_1[i][:max_chars]\n",
        "  for j in range(len(t)):\n",
        "    X_train_1[i, j, :] = word_vectors_1[t[j]]\n",
        "\n",
        "for i in range(len(test_data_1)):\n",
        "  t = test_data_1[i][:max_chars]\n",
        "  for j in range(len(t)):\n",
        "    X_test_1[i, j, :] = word_vectors_1[t[j]]"
      ],
      "execution_count": 0,
      "outputs": []
    },
    {
      "cell_type": "code",
      "metadata": {
        "id": "_iUJh-GIHM1X",
        "colab_type": "code",
        "outputId": "6e1ded90-829f-4fd4-f980-a640ed53f8fc",
        "colab": {
          "base_uri": "https://localhost:8080/",
          "height": 34
        }
      },
      "source": [
        "X_train_1.shape"
      ],
      "execution_count": 0,
      "outputs": [
        {
          "output_type": "execute_result",
          "data": {
            "text/plain": [
              "(15131, 25, 128)"
            ]
          },
          "metadata": {
            "tags": []
          },
          "execution_count": 206
        }
      ]
    },
    {
      "cell_type": "code",
      "metadata": {
        "id": "vQISOuox-3TD",
        "colab_type": "code",
        "colab": {}
      },
      "source": [
        "from keras.layers.recurrent import LSTM\n",
        "#from keras.layers.embeddings import Embedding\n",
        "from keras.layers import Bidirectional, Dense, Activation, SimpleRNN, Dropout\n",
        "from keras.models import Sequential"
      ],
      "execution_count": 0,
      "outputs": []
    },
    {
      "cell_type": "code",
      "metadata": {
        "id": "Zee22Jf-xPCJ",
        "colab_type": "code",
        "colab": {}
      },
      "source": [
        "model_1 = Sequential()\n",
        "model_1.add(LSTM(units = 128, activation='relu', input_shape=(X_train_1.shape[1], X_train_1.shape[2]), return_sequences=False))\n",
        "model_1.add(Dense(16, activation='relu'))\n",
        "model_1.add(Dropout(0.10))\n",
        "model_1.add(Dense(3, activation='softmax'))\n",
        "model_1.compile(loss='categorical_crossentropy',optimizer='adam', metrics=['accuracy'])"
      ],
      "execution_count": 0,
      "outputs": []
    },
    {
      "cell_type": "code",
      "metadata": {
        "id": "m3G36c7H-3WC",
        "colab_type": "code",
        "colab": {}
      },
      "source": [
        "batch_size = 32\n",
        "nb_epochs = 10"
      ],
      "execution_count": 0,
      "outputs": []
    },
    {
      "cell_type": "code",
      "metadata": {
        "id": "ZRCtT8aty26_",
        "colab_type": "code",
        "outputId": "e3b62163-fd32-4477-90ee-eef30f333ee4",
        "colab": {
          "base_uri": "https://localhost:8080/",
          "height": 386
        }
      },
      "source": [
        "model_1.fit(X_train_1, y_train_1,\n",
        "          batch_size=batch_size,\n",
        "          epochs=nb_epochs)"
      ],
      "execution_count": 0,
      "outputs": [
        {
          "output_type": "stream",
          "text": [
            "Epoch 1/10\n",
            "15131/15131 [==============================] - 16s 1ms/step - loss: 1.0774 - acc: 0.4139\n",
            "Epoch 2/10\n",
            "15131/15131 [==============================] - 13s 892us/step - loss: 1.0437 - acc: 0.4418\n",
            "Epoch 3/10\n",
            "15131/15131 [==============================] - 13s 886us/step - loss: 1.0398 - acc: 0.4423\n",
            "Epoch 4/10\n",
            "15131/15131 [==============================] - 14s 894us/step - loss: 1.0331 - acc: 0.4459\n",
            "Epoch 5/10\n",
            "15131/15131 [==============================] - 13s 854us/step - loss: 1.0302 - acc: 0.4519\n",
            "Epoch 6/10\n",
            "15131/15131 [==============================] - 14s 893us/step - loss: 1.0266 - acc: 0.4548\n",
            "Epoch 7/10\n",
            "15131/15131 [==============================] - 14s 897us/step - loss: 1.0224 - acc: 0.4571\n",
            "Epoch 8/10\n",
            "15131/15131 [==============================] - 14s 903us/step - loss: 1.0216 - acc: 0.4580\n",
            "Epoch 9/10\n",
            "15131/15131 [==============================] - 16s 1ms/step - loss: 1.0216 - acc: 0.4560\n",
            "Epoch 10/10\n",
            "15131/15131 [==============================] - 14s 903us/step - loss: 1.0194 - acc: 0.4597\n"
          ],
          "name": "stdout"
        },
        {
          "output_type": "execute_result",
          "data": {
            "text/plain": [
              "<keras.callbacks.History at 0x7f53eabea240>"
            ]
          },
          "metadata": {
            "tags": []
          },
          "execution_count": 216
        }
      ]
    },
    {
      "cell_type": "code",
      "metadata": {
        "id": "x8MY5vvpImBY",
        "colab_type": "code",
        "outputId": "aeb95988-da1c-4a19-f5d2-76d8438854aa",
        "colab": {
          "base_uri": "https://localhost:8080/",
          "height": 386
        }
      },
      "source": [
        "model_1.fit(X_train_1, y_train_1,\n",
        "          batch_size=batch_size,\n",
        "          epochs=nb_epochs)"
      ],
      "execution_count": 0,
      "outputs": [
        {
          "output_type": "stream",
          "text": [
            "Epoch 1/10\n",
            "15131/15131 [==============================] - 14s 896us/step - loss: 1.0134 - acc: 0.4640\n",
            "Epoch 2/10\n",
            "15131/15131 [==============================] - 13s 868us/step - loss: 1.0134 - acc: 0.4659\n",
            "Epoch 3/10\n",
            "15131/15131 [==============================] - 13s 874us/step - loss: 1.0147 - acc: 0.4585\n",
            "Epoch 4/10\n",
            "15131/15131 [==============================] - 15s 981us/step - loss: 1.0095 - acc: 0.4641\n",
            "Epoch 5/10\n",
            "15131/15131 [==============================] - 14s 933us/step - loss: 1.0064 - acc: 0.4636\n",
            "Epoch 6/10\n",
            "15131/15131 [==============================] - 13s 865us/step - loss: 1.0064 - acc: 0.4697\n",
            "Epoch 7/10\n",
            "15131/15131 [==============================] - 13s 842us/step - loss: 1.0226 - acc: 0.4663\n",
            "Epoch 8/10\n",
            "15131/15131 [==============================] - 14s 906us/step - loss: 1.0276 - acc: 0.4606\n",
            "Epoch 9/10\n",
            "15131/15131 [==============================] - 15s 986us/step - loss: 1.0381 - acc: 0.4588\n",
            "Epoch 10/10\n",
            "15131/15131 [==============================] - 14s 916us/step - loss: 1.1008 - acc: 0.3949\n"
          ],
          "name": "stdout"
        },
        {
          "output_type": "execute_result",
          "data": {
            "text/plain": [
              "<keras.callbacks.History at 0x7f53f41633c8>"
            ]
          },
          "metadata": {
            "tags": []
          },
          "execution_count": 217
        }
      ]
    },
    {
      "cell_type": "code",
      "metadata": {
        "id": "LtGfDQj1MgE4",
        "colab_type": "code",
        "outputId": "440c02dc-1d49-432f-ef38-509eb18ea084",
        "colab": {
          "base_uri": "https://localhost:8080/",
          "height": 386
        }
      },
      "source": [
        "model_1.fit(X_train_1, y_train_1,\n",
        "          batch_size=batch_size,\n",
        "          epochs=nb_epochs)"
      ],
      "execution_count": 0,
      "outputs": [
        {
          "output_type": "stream",
          "text": [
            "Epoch 1/10\n",
            "15131/15131 [==============================] - 13s 841us/step - loss: 1.0956 - acc: 0.3727\n",
            "Epoch 2/10\n",
            "15131/15131 [==============================] - 15s 986us/step - loss: 1.0941 - acc: 0.3726\n",
            "Epoch 3/10\n",
            "15131/15131 [==============================] - 14s 907us/step - loss: 1.0940 - acc: 0.3726\n",
            "Epoch 4/10\n",
            "15131/15131 [==============================] - 16s 1ms/step - loss: 1.0941 - acc: 0.3726\n",
            "Epoch 5/10\n",
            "15131/15131 [==============================] - 13s 864us/step - loss: 1.0941 - acc: 0.3726\n",
            "Epoch 6/10\n",
            "15131/15131 [==============================] - 13s 864us/step - loss: 1.0940 - acc: 0.3726\n",
            "Epoch 7/10\n",
            "15131/15131 [==============================] - 13s 853us/step - loss: 2.6655 - acc: 0.3725\n",
            "Epoch 8/10\n",
            "15131/15131 [==============================] - 13s 883us/step - loss: 9.1768 - acc: 0.3726\n",
            "Epoch 9/10\n",
            "15131/15131 [==============================] - 14s 925us/step - loss: 9.2273 - acc: 0.3726\n",
            "Epoch 10/10\n",
            "15131/15131 [==============================] - 14s 933us/step - loss: 9.1981 - acc: 0.3726\n"
          ],
          "name": "stdout"
        },
        {
          "output_type": "execute_result",
          "data": {
            "text/plain": [
              "<keras.callbacks.History at 0x7f53f4006828>"
            ]
          },
          "metadata": {
            "tags": []
          },
          "execution_count": 218
        }
      ]
    },
    {
      "cell_type": "code",
      "metadata": {
        "id": "mnokOjnsyhkQ",
        "colab_type": "code",
        "colab": {}
      },
      "source": [
        "y_pred_1 = model_1.predict(X_test_1)"
      ],
      "execution_count": 0,
      "outputs": []
    },
    {
      "cell_type": "code",
      "metadata": {
        "id": "sMnJyAd2T2eS",
        "colab_type": "code",
        "colab": {}
      },
      "source": [
        ""
      ],
      "execution_count": 0,
      "outputs": []
    },
    {
      "cell_type": "code",
      "metadata": {
        "id": "soUr4JYdUyJ-",
        "colab_type": "code",
        "colab": {}
      },
      "source": [
        "train_data_2 = []\n",
        "for i in range(len(train_data)):\n",
        "  t = train_data[i]['tokens']\n",
        "  l = train_data[i]['lang_id']\n",
        "  t_filter = [t[x] for x in range(len(t)) if l[x]!='O']\n",
        "  t_trigram = t_filter + [' '.join(t_filter[i:i+2]) for i in range(len(t_filter)-1)]\n",
        "  train_data_2.append(t_trigram)"
      ],
      "execution_count": 0,
      "outputs": []
    },
    {
      "cell_type": "code",
      "metadata": {
        "id": "udqGw_gVU-Hp",
        "colab_type": "code",
        "colab": {}
      },
      "source": [
        "test_data_2 = []\n",
        "for i in range(len(test_data)):\n",
        "  t = test_data[i]['tokens']\n",
        "  l = test_data[i]['lang_id']\n",
        "  t_filter = [t[x] for x in range(len(t)) if l[x]!='O']\n",
        "  t_trigram = t_filter + [' '.join(t_filter[i:i+2]) for i in range(len(t_filter)-1)]\n",
        "  test_data_2.append(t_trigram)"
      ],
      "execution_count": 0,
      "outputs": []
    },
    {
      "cell_type": "code",
      "metadata": {
        "id": "g3gVeK0Ca1nO",
        "colab_type": "code",
        "colab": {}
      },
      "source": [
        "uni_bi_grams = []\n",
        "for i in range(len(train_data_2)):\n",
        "  uni_bi_grams.extend(train_data_2[i])\n",
        "for i in range(len(test_data_2)):\n",
        "  uni_bi_grams.extend(test_data_2[i])\n",
        "\n",
        "uni_bi_grams = nltk.FreqDist(uni_bi_grams)\n",
        "\n",
        "uni_bi_features = []\n",
        "for gram in uni_bi_grams:\n",
        "  if(uni_bi_grams[gram]>3):\n",
        "    uni_bi_features.append(gram)"
      ],
      "execution_count": 0,
      "outputs": []
    },
    {
      "cell_type": "code",
      "metadata": {
        "id": "zAnPZ9L4cE_P",
        "colab_type": "code",
        "colab": {}
      },
      "source": [
        "X_train_2 = []\n",
        "for i in range(len(train_data_2)):\n",
        "  f = {}\n",
        "  for w in train_data_2[i]:\n",
        "    f[w] = (w in uni_bi_features)\n",
        "  X_train_2.append(f)"
      ],
      "execution_count": 0,
      "outputs": []
    },
    {
      "cell_type": "code",
      "metadata": {
        "id": "pcjFOHWIdAjJ",
        "colab_type": "code",
        "colab": {}
      },
      "source": [
        "X_test_2 = []\n",
        "for i in range(len(test_data_2)):\n",
        "  f = {}\n",
        "  for w in test_data_2[i]:\n",
        "    f[w] = (w in uni_bi_features)\n",
        "  X_test_2.append(f)"
      ],
      "execution_count": 0,
      "outputs": []
    },
    {
      "cell_type": "code",
      "metadata": {
        "id": "PzDeHAIydJfV",
        "colab_type": "code",
        "colab": {}
      },
      "source": [
        "y_train_2 = np.array(train_labels)\n",
        "#y_test_2 = np.array(test_labels)"
      ],
      "execution_count": 0,
      "outputs": []
    },
    {
      "cell_type": "code",
      "metadata": {
        "id": "o7dXaDmGVFkw",
        "colab_type": "code",
        "colab": {}
      },
      "source": [
        "from nltk.classify.scikitlearn import SklearnClassifier\n",
        "from sklearn.naive_bayes import MultinomialNB"
      ],
      "execution_count": 0,
      "outputs": []
    },
    {
      "cell_type": "code",
      "metadata": {
        "id": "ZO7X0CrVVVjf",
        "colab_type": "code",
        "outputId": "63788ae0-ed35-4016-ad86-119fefb7c042",
        "colab": {
          "base_uri": "https://localhost:8080/",
          "height": 34
        }
      },
      "source": [
        "model_2 = SklearnClassifier(MultinomialNB())\n",
        "model_2.train([(X_train_2[i], y_train_2[i]) for i in range(len(X_train_2))])"
      ],
      "execution_count": 0,
      "outputs": [
        {
          "output_type": "execute_result",
          "data": {
            "text/plain": [
              "<SklearnClassifier(MultinomialNB(alpha=1.0, class_prior=None, fit_prior=True))>"
            ]
          },
          "metadata": {
            "tags": []
          },
          "execution_count": 89
        }
      ]
    },
    {
      "cell_type": "code",
      "metadata": {
        "id": "T_7_8NCQziAV",
        "colab_type": "code",
        "outputId": "af4bab4f-74b0-4533-cb55-adec2a141564",
        "colab": {
          "base_uri": "https://localhost:8080/",
          "height": 34
        }
      },
      "source": [
        "model_2.labels()"
      ],
      "execution_count": 0,
      "outputs": [
        {
          "output_type": "execute_result",
          "data": {
            "text/plain": [
              "['negative', 'neutral', 'positive']"
            ]
          },
          "metadata": {
            "tags": []
          },
          "execution_count": 90
        }
      ]
    },
    {
      "cell_type": "code",
      "metadata": {
        "id": "V7uaD7OxyJec",
        "colab_type": "code",
        "colab": {}
      },
      "source": [
        "v = model_2._vectorizer.transform(X_test_2)\n",
        "y_pred_2 = model_2._clf.predict_proba(v)"
      ],
      "execution_count": 0,
      "outputs": []
    },
    {
      "cell_type": "code",
      "metadata": {
        "id": "3vtaiJh7uxce",
        "colab_type": "code",
        "colab": {}
      },
      "source": [
        ""
      ],
      "execution_count": 0,
      "outputs": []
    },
    {
      "cell_type": "code",
      "metadata": {
        "id": "a24G-_wGa2sW",
        "colab_type": "code",
        "colab": {}
      },
      "source": [
        "y_pred = []\n",
        "for i in range(len(y_pred_1)):\n",
        "  p = []\n",
        "  for j in range(3):\n",
        "    p.append((y_pred_1[i][j])*(y_pred_2[i][j]))\n",
        "  y_pred.append(np.array(p))"
      ],
      "execution_count": 0,
      "outputs": []
    },
    {
      "cell_type": "code",
      "metadata": {
        "id": "9tkVB_Vwb4Gt",
        "colab_type": "code",
        "colab": {}
      },
      "source": [
        "y_pred_labels = []\n",
        "for i in range(len(y_pred)):\n",
        "  x = y_pred[i].argmax()\n",
        "  if(x==0):\n",
        "    y_pred_labels.append('negative')\n",
        "  elif(x==1):\n",
        "    y_pred_labels.append('neutral')\n",
        "  else:\n",
        "    y_pred_labels.append('positive')"
      ],
      "execution_count": 0,
      "outputs": []
    },
    {
      "cell_type": "code",
      "metadata": {
        "id": "XMScxqetcp4F",
        "colab_type": "code",
        "colab": {}
      },
      "source": [
        "y_actual_labels = test_labels.copy()"
      ],
      "execution_count": 0,
      "outputs": []
    },
    {
      "cell_type": "code",
      "metadata": {
        "id": "cNXdfiuCcy6b",
        "colab_type": "code",
        "outputId": "9062eedd-9e57-4551-995d-9f3628ca4f68",
        "colab": {
          "base_uri": "https://localhost:8080/"
        }
      },
      "source": [
        "count = 0\n",
        "for i in range(len(y_pred_labels)):\n",
        "  if(y_pred_labels[i]==y_actual_labels[i]):\n",
        "    count=count+1\n",
        "Accuracy = count/len(y_actual_labels)\n",
        "print(Accuracy)"
      ],
      "execution_count": 0,
      "outputs": [
        {
          "output_type": "stream",
          "text": [
            "0.5446762974852862\n"
          ],
          "name": "stdout"
        }
      ]
    },
    {
      "cell_type": "code",
      "metadata": {
        "id": "zfhYdogYdBqD",
        "colab_type": "code",
        "outputId": "26226c15-8cae-4f6f-e89c-454fef50ec1e",
        "colab": {
          "base_uri": "https://localhost:8080/"
        }
      },
      "source": [
        "from sklearn.metrics import f1_score\n",
        "F1 = f1_score(y_actual_labels, y_pred_labels, average=None)\n",
        "print(F1)"
      ],
      "execution_count": 0,
      "outputs": [
        {
          "output_type": "stream",
          "text": [
            "[0.57117595 0.47101449 0.60309698]\n"
          ],
          "name": "stdout"
        }
      ]
    },
    {
      "cell_type": "code",
      "metadata": {
        "id": "3iD982O7WyCb",
        "colab_type": "code",
        "outputId": "16cc3654-dd46-47de-c370-9700e0252083",
        "colab": {
          "base_uri": "https://localhost:8080/"
        }
      },
      "source": [
        "from sklearn.metrics import recall_score\n",
        "Recall = recall_score(y_actual_labels, y_pred_labels, average=None)\n",
        "print(Recall)"
      ],
      "execution_count": 0,
      "outputs": [
        {
          "output_type": "stream",
          "text": [
            "[0.60600375 0.43103448 0.63573883]\n"
          ],
          "name": "stdout"
        }
      ]
    },
    {
      "cell_type": "code",
      "metadata": {
        "id": "txI5C3DPXI3w",
        "colab_type": "code",
        "outputId": "a67e95b4-ebef-4a53-8ff8-118c145dfda5",
        "colab": {
          "base_uri": "https://localhost:8080/"
        }
      },
      "source": [
        "from sklearn.metrics import precision_score\n",
        "Precision = precision_score(y_actual_labels, y_pred_labels, average=None)\n",
        "print(Precision)"
      ],
      "execution_count": 0,
      "outputs": [
        {
          "output_type": "stream",
          "text": [
            "[0.54013378 0.51916933 0.57364341]\n"
          ],
          "name": "stdout"
        }
      ]
    },
    {
      "cell_type": "code",
      "metadata": {
        "id": "j2ppSBn1X-z6",
        "colab_type": "code",
        "colab": {}
      },
      "source": [
        ""
      ],
      "execution_count": 0,
      "outputs": []
    }
  ]
}